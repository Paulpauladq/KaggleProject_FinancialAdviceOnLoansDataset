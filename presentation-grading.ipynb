{
 "cells": [
  {
   "cell_type": "markdown",
   "metadata": {},
   "source": [
    "# CS6140 Assignments\n",
    "\n",
    "**Instructions**\n",
    "1. In each assignment cell, look for the block:\n",
    " ```\n",
    "  #BEGIN YOUR CODE\n",
    "  raise NotImplementedError.new()\n",
    "  #END YOUR CODE\n",
    " ```\n",
    "1. Replace this block with your solution.\n",
    "1. Test your solution by running the cells following your block (indicated by ##TEST##)\n",
    "1. Click the \"Validate\" button above to validate the work.\n",
    "\n",
    "**Notes**\n",
    "* You may add other cells and functions as needed\n",
    "* Keep all code in the same notebook\n",
    "* In order to receive credit, code must \"Validate\" on the JupyterHub server\n",
    "\n",
    "---"
   ]
  },
  {
   "cell_type": "code",
   "execution_count": null,
   "metadata": {},
   "outputs": [],
   "source": []
  },
  {
   "cell_type": "markdown",
   "metadata": {
    "deletable": false,
    "editable": false,
    "nbgrader": {
     "checksum": "045ba24e8866d197772ef47c96409264",
     "grade": false,
     "grade_id": "cell-d21a86d292a3d7ef",
     "locked": true,
     "schema_version": 1,
     "solution": false
    }
   },
   "source": [
    "# Final Project Presentation\n",
    "\n",
    "The final project consists of a 15-minute oral presentation. The presentation will be in PPT format, and linked to the notebook. You will receive written feedback from the grader in this notebook. \n",
    "\n",
    "All written material must be completed prior to your presentation slot. "
   ]
  },
  {
   "cell_type": "markdown",
   "metadata": {
    "deletable": false,
    "editable": false,
    "nbgrader": {
     "checksum": "50c44beb595c9559d2ecab27586194a6",
     "grade": false,
     "grade_id": "cell-d9bb43612fd5686f",
     "locked": true,
     "schema_version": 1,
     "solution": false
    }
   },
   "source": [
    "## Question 1.1: Presentation time (20 points)\n",
    "\n",
    "Grader will use this question to mark your presentation time. Full credit for on time, half credit for over time and quarter credit for under time. \n",
    "\n",
    "Add a link to your PowerPoint slides in the markdown cell below. "
   ]
  },
  {
   "cell_type": "markdown",
   "metadata": {
    "deletable": false,
    "nbgrader": {
     "checksum": "00116a7589f55d397856c2950dba9065",
     "grade": true,
     "grade_id": "cell-f96ae95e5a641ea0",
     "locked": false,
     "points": 20,
     "schema_version": 1,
     "solution": true
    }
   },
   "source": [
    "https://docs.google.com/presentation/d/1HVgLu4amgo2zMXFHkog8__iHZAPjn8zhYA_hE4QwUBE/edit?usp=sharing"
   ]
  },
  {
   "cell_type": "markdown",
   "metadata": {
    "deletable": false,
    "editable": false,
    "nbgrader": {
     "checksum": "765ec39fd2629efe153b4c96449cba66",
     "grade": false,
     "grade_id": "cell-114167b4e3d8bd97",
     "locked": true,
     "schema_version": 1,
     "solution": false
    }
   },
   "source": [
    "## Question 1.2: Presentation Attention (40 points)\n",
    "\n",
    "To prove that you attended the presentation sessions, please fill out the surveys provided below. The session surveys can only be accessed during the class. The class survey below is about the content of the class and not related to TRACE. Although the contents of the surveys do not affect your grade, they are compulsory. \n",
    "\n",
    "* [Session 1 12/08](https://forms.office.com/Pages/ResponsePage.aspx?id=gcLuqKOqrk2sm5o5i5IV5-sXZT3JZZ1BmKJaI77bVXpUOFNWWFVHSzZKSFg2SkY1WjlSVzlNSzlQQS4u)\n",
    "* [Session 2 12/15](https://forms.office.com/Pages/ResponsePage.aspx?id=gcLuqKOqrk2sm5o5i5IV5-sXZT3JZZ1BmKJaI77bVXpUM01JRUpOWFZJQTZHVUpRU1U4WFJCMTU3QS4u)\n",
    "* [Class Survey](https://forms.office.com/Pages/ResponsePage.aspx?id=gcLuqKOqrk2sm5o5i5IV5-sXZT3JZZ1BmKJaI77bVXpUQ1NKN1A1QzlYV0tEUEc5QkFUQzhKOUs1OS4u)\n",
    "\n",
    "Write your NEU e-mail address in the cell below so that the grader can check your form submission."
   ]
  },
  {
   "cell_type": "markdown",
   "metadata": {
    "deletable": false,
    "nbgrader": {
     "checksum": "08fb221c1d797d0514c052d832f34523",
     "grade": true,
     "grade_id": "cell-4f45af5b4114df89",
     "locked": false,
     "points": 40,
     "schema_version": 1,
     "solution": true
    }
   },
   "source": [
    "tang.ziq@husky.neu.edu"
   ]
  },
  {
   "cell_type": "markdown",
   "metadata": {},
   "source": [
    "## Question 2.1: Presentation Outline (40 Points)\n",
    "\n",
    "Your presentation must contain, at minimum, the following components (20% each). Try to come up with something original and demonstrate that you learned something. \n",
    "\n",
    "* Description of any data analysis you did to discover new features\n",
    "* Description of 1-2 related work you found inspiring\n",
    "* Description of how you processed the data, how you setup the training set, etc. \n",
    "* Description of any learning algorithms you used for the final models\n",
    "* What did you learn about this dataset during the final project\n",
    "\n",
    "No need to write anything in the cells below."
   ]
  },
  {
   "cell_type": "code",
   "execution_count": null,
   "metadata": {
    "deletable": false,
    "nbgrader": {
     "checksum": "bf15b6b6b32ede8ccbe171c499a6ceca",
     "grade": true,
     "grade_id": "cell-ba490f7da92e1afe",
     "locked": false,
     "points": 40,
     "schema_version": 1,
     "solution": true
    }
   },
   "outputs": [],
   "source": [
    "# BEGIN YOUR CODE\n",
    ".\n",
    "\n",
    "#END YOUR CODE"
   ]
  }
 ],
 "metadata": {
  "kernelspec": {
   "display_name": "Ruby 2.5.1",
   "language": "ruby",
   "name": "ruby"
  },
  "language_info": {
   "file_extension": ".rb",
   "mimetype": "application/x-ruby",
   "name": "ruby",
   "version": "2.5.1"
  }
 },
 "nbformat": 4,
 "nbformat_minor": 2
}
