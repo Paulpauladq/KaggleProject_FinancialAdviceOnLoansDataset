{
 "cells": [
  {
   "cell_type": "markdown",
   "metadata": {},
   "source": [
    "# CS6140 Assignments\n",
    "\n",
    "**Instructions**\n",
    "1. In each assignment cell, look for the block:\n",
    " ```\n",
    "  #BEGIN YOUR CODE\n",
    "  raise NotImplementedError.new()\n",
    "  #END YOUR CODE\n",
    " ```\n",
    "1. Replace this block with your solution.\n",
    "1. Test your solution by running the cells following your block (indicated by ##TEST##)\n",
    "1. Click the \"Validate\" button above to validate the work.\n",
    "\n",
    "**Notes**\n",
    "* You may add other cells and functions as needed\n",
    "* Keep all code in the same notebook\n",
    "* In order to receive credit, code must \"Validate\" on the JupyterHub server\n",
    "\n",
    "---"
   ]
  },
  {
   "cell_type": "code",
   "execution_count": null,
   "metadata": {},
   "outputs": [],
   "source": []
  },
  {
   "cell_type": "markdown",
   "metadata": {
    "deletable": false,
    "editable": false,
    "nbgrader": {
     "checksum": "c4c928542071745bbb1d772a275d6204",
     "grade": false,
     "grade_id": "cell-d6a8d32193c5cf65",
     "locked": true,
     "schema_version": 1,
     "solution": false
    }
   },
   "source": [
    "# Final Project: Part 1 - Exploratory Analysis\n",
    "\n",
    "\n",
    "We are going to do some exploratory analysis on the data to see what is available. This data is from a [Kaggle competition](https://www.kaggle.com/c/home-credit-default-risk/data). Although we are not going to be entering the competition, we will come up with something reasonable. See the associated Final Project note in the course OneNote on the acceptance criteria and requirements. \n",
    "\n",
    "The final project consists of three SQLite databases. The databases below are identical but sampled as needed. Note that databases are read-only so you should not try to create or alter the contents. You may create another database in your directory.\n",
    "\n",
    "* Train: Used for full model training, as needed.\n",
    "* Dev: Used for quick prototyping, validation, etc.\n",
    "* Test: Used to grade and evaluate your work (Note: Used when grading only).\n",
    "\n",
    "They all have the same schema, shown below. Note that there is no \"application_test\". \n",
    "\n",
    "![alt text](home_credit.png)\n"
   ]
  },
  {
   "cell_type": "code",
   "execution_count": 43,
   "metadata": {
    "deletable": false,
    "editable": false,
    "nbgrader": {
     "checksum": "110239b0956bd614205d11a2bbdfe8be",
     "grade": false,
     "grade_id": "cell-d549216699dc70dd",
     "locked": true,
     "schema_version": 1,
     "solution": false
    }
   },
   "outputs": [
    {
     "data": {
      "text/plain": [
       "#<SQLite3::Database:0x0000000002684f50 @tracefunc=nil, @authorizer=nil, @encoding=nil, @busy_handler=nil, @collations={}, @functions={}, @results_as_hash=true, @type_translation=nil, @readonly=true>"
      ]
     },
     "execution_count": 43,
     "metadata": {},
     "output_type": "execute_result"
    }
   ],
   "source": [
    "require './assignment_lib.rb'\n",
    "\n",
    "dir = \"/home/dataset\"\n",
    "$dev_db = SQLite3::Database.new \"#{dir}/credit_risk_data_dev.db\", results_as_hash: true, readonly: true\n",
    "$train_db = SQLite3::Database.new \"#{dir}/credit_risk_data_train.db\", results_as_hash: true, readonly: true"
   ]
  },
  {
   "cell_type": "markdown",
   "metadata": {},
   "source": [
    "## Getting to know the data\n",
    "Here are some sample queries to show the tables and columns for a table. You are encourages to play around with the data and export some data to your favorite data analysis system."
   ]
  },
  {
   "cell_type": "code",
   "execution_count": 44,
   "metadata": {},
   "outputs": [
    {
     "name": "stdout",
     "output_type": "stream",
     "text": [
      "{\"name\"=>\"POS_CASH_balance\", 0=>\"POS_CASH_balance\"}\n",
      "{\"name\"=>\"application_train\", 0=>\"application_train\"}\n",
      "{\"name\"=>\"bureau\", 0=>\"bureau\"}\n",
      "{\"name\"=>\"bureau_balance\", 0=>\"bureau_balance\"}\n",
      "{\"name\"=>\"credit_card_balance\", 0=>\"credit_card_balance\"}\n",
      "{\"name\"=>\"data_sample\", 0=>\"data_sample\"}\n",
      "{\"name\"=>\"installments_payments\", 0=>\"installments_payments\"}\n",
      "{\"name\"=>\"previous_application\", 0=>\"previous_application\"}\n"
     ]
    },
    {
     "data": {
      "text/plain": [
       "#<SQLite3::Statement:0x000000000261dda0 @connection=#<SQLite3::Database:0x0000000002685090 @tracefunc=nil, @authorizer=nil, @encoding=#<Encoding:UTF-8>, @busy_handler=nil, @collations={}, @functions={}, @results_as_hash=true, @type_translation=nil, @readonly=true>, @remainder=\"\\\"\\n\", @columns=[\"name\"], @types=[\"text\"]>"
      ]
     },
     "execution_count": 44,
     "metadata": {},
     "output_type": "execute_result"
    }
   ],
   "source": [
    "sql = <<SQL\n",
    "SELECT name FROM sqlite_master\n",
    "            WHERE type='table'\n",
    "            ORDER BY name;\"\n",
    "SQL\n",
    "\n",
    "$dev_db.execute(sql) do |row|\n",
    "  puts row\n",
    "end"
   ]
  },
  {
   "cell_type": "code",
   "execution_count": 45,
   "metadata": {
    "scrolled": true
   },
   "outputs": [
    {
     "data": {
      "text/plain": [
       "[\"SK_ID_CURR\", \"TARGET\", \"NAME_CONTRACT_TYPE\", \"CODE_GENDER\", \"FLAG_OWN_CAR\", \"FLAG_OWN_REALTY\", \"CNT_CHILDREN\", \"AMT_INCOME_TOTAL\", \"AMT_CREDIT\", \"AMT_ANNUITY\", \"AMT_GOODS_PRICE\", \"NAME_TYPE_SUITE\", \"NAME_INCOME_TYPE\", \"NAME_EDUCATION_TYPE\", \"NAME_FAMILY_STATUS\", \"NAME_HOUSING_TYPE\", \"REGION_POPULATION_RELATIVE\", \"DAYS_BIRTH\", \"DAYS_EMPLOYED\", \"DAYS_REGISTRATION\", \"DAYS_ID_PUBLISH\", \"OWN_CAR_AGE\", \"FLAG_MOBIL\", \"FLAG_EMP_PHONE\", \"FLAG_WORK_PHONE\", \"FLAG_CONT_MOBILE\", \"FLAG_PHONE\", \"FLAG_EMAIL\", \"OCCUPATION_TYPE\", \"CNT_FAM_MEMBERS\", \"REGION_RATING_CLIENT\", \"REGION_RATING_CLIENT_W_CITY\", \"WEEKDAY_APPR_PROCESS_START\", \"HOUR_APPR_PROCESS_START\", \"REG_REGION_NOT_LIVE_REGION\", \"REG_REGION_NOT_WORK_REGION\", \"LIVE_REGION_NOT_WORK_REGION\", \"REG_CITY_NOT_LIVE_CITY\", \"REG_CITY_NOT_WORK_CITY\", \"LIVE_CITY_NOT_WORK_CITY\", \"ORGANIZATION_TYPE\", \"EXT_SOURCE_1\", \"EXT_SOURCE_2\", \"EXT_SOURCE_3\", \"APARTMENTS_AVG\", \"BASEMENTAREA_AVG\", \"YEARS_BEGINEXPLUATATION_AVG\", \"YEARS_BUILD_AVG\", \"COMMONAREA_AVG\", \"ELEVATORS_AVG\", \"ENTRANCES_AVG\", \"FLOORSMAX_AVG\", \"FLOORSMIN_AVG\", \"LANDAREA_AVG\", \"LIVINGAPARTMENTS_AVG\", \"LIVINGAREA_AVG\", \"NONLIVINGAPARTMENTS_AVG\", \"NONLIVINGAREA_AVG\", \"APARTMENTS_MODE\", \"BASEMENTAREA_MODE\", \"YEARS_BEGINEXPLUATATION_MODE\", \"YEARS_BUILD_MODE\", \"COMMONAREA_MODE\", \"ELEVATORS_MODE\", \"ENTRANCES_MODE\", \"FLOORSMAX_MODE\", \"FLOORSMIN_MODE\", \"LANDAREA_MODE\", \"LIVINGAPARTMENTS_MODE\", \"LIVINGAREA_MODE\", \"NONLIVINGAPARTMENTS_MODE\", \"NONLIVINGAREA_MODE\", \"APARTMENTS_MEDI\", \"BASEMENTAREA_MEDI\", \"YEARS_BEGINEXPLUATATION_MEDI\", \"YEARS_BUILD_MEDI\", \"COMMONAREA_MEDI\", \"ELEVATORS_MEDI\", \"ENTRANCES_MEDI\", \"FLOORSMAX_MEDI\", \"FLOORSMIN_MEDI\", \"LANDAREA_MEDI\", \"LIVINGAPARTMENTS_MEDI\", \"LIVINGAREA_MEDI\", \"NONLIVINGAPARTMENTS_MEDI\", \"NONLIVINGAREA_MEDI\", \"FONDKAPREMONT_MODE\", \"HOUSETYPE_MODE\", \"TOTALAREA_MODE\", \"WALLSMATERIAL_MODE\", \"EMERGENCYSTATE_MODE\", \"OBS_30_CNT_SOCIAL_CIRCLE\", \"DEF_30_CNT_SOCIAL_CIRCLE\", \"OBS_60_CNT_SOCIAL_CIRCLE\", \"DEF_60_CNT_SOCIAL_CIRCLE\", \"DAYS_LAST_PHONE_CHANGE\", \"FLAG_DOCUMENT_2\", \"FLAG_DOCUMENT_3\", \"FLAG_DOCUMENT_4\", \"FLAG_DOCUMENT_5\", \"FLAG_DOCUMENT_6\", \"FLAG_DOCUMENT_7\", \"FLAG_DOCUMENT_8\", \"FLAG_DOCUMENT_9\", \"FLAG_DOCUMENT_10\", \"FLAG_DOCUMENT_11\", \"FLAG_DOCUMENT_12\", \"FLAG_DOCUMENT_13\", \"FLAG_DOCUMENT_14\", \"FLAG_DOCUMENT_15\", \"FLAG_DOCUMENT_16\", \"FLAG_DOCUMENT_17\", \"FLAG_DOCUMENT_18\", \"FLAG_DOCUMENT_19\", \"FLAG_DOCUMENT_20\", \"FLAG_DOCUMENT_21\", \"AMT_REQ_CREDIT_BUREAU_HOUR\", \"AMT_REQ_CREDIT_BUREAU_DAY\", \"AMT_REQ_CREDIT_BUREAU_WEEK\", \"AMT_REQ_CREDIT_BUREAU_MON\", \"AMT_REQ_CREDIT_BUREAU_QRT\", \"AMT_REQ_CREDIT_BUREAU_YEAR\"]"
      ]
     },
     "execution_count": 45,
     "metadata": {},
     "output_type": "execute_result"
    }
   ],
   "source": [
    "sql = \"select * from application_train\"\n",
    "$dev_db.prepare(sql).columns"
   ]
  },
  {
   "cell_type": "markdown",
   "metadata": {},
   "source": [
    "## Question 1.1 (20 points)\n",
    "\n",
    "Getting familiar with SQL, try counting the number of rows in the dev database and the train database. Return a single number from an SQL query.\n",
    "\n",
    "Here is an example of how to run a query:\n",
    "\n",
    "```ruby\n",
    "def count_applications db\n",
    "    db.execute(\"select * from application_train limit 10\") do |row|\n",
    "        puts row[\"TARGET\"]\n",
    "    end\n",
    "end\n",
    "```"
   ]
  },
  {
   "cell_type": "code",
   "execution_count": 46,
   "metadata": {
    "deletable": false,
    "nbgrader": {
     "checksum": "79612a5cdb2833a43ec2f2631d25fe68",
     "grade": false,
     "grade_id": "cell-7cb4edc609624dcb",
     "locked": false,
     "schema_version": 1,
     "solution": true
    }
   },
   "outputs": [
    {
     "data": {
      "text/plain": [
       ":count_applications"
      ]
     },
     "execution_count": 46,
     "metadata": {},
     "output_type": "execute_result"
    }
   ],
   "source": [
    "def count_applications db\n",
    "  # BEGIN YOUR CODE\n",
    "  count = 0\n",
    "\n",
    "  sql = \"select count(*) from application_train\"\n",
    "  \n",
    "  db.execute(sql) do |row|\n",
    "    puts row\n",
    "    count = row[\"count(*)\"]\n",
    "  end\n",
    "  count\n",
    "  #END YOUR CODE\n",
    "end"
   ]
  },
  {
   "cell_type": "code",
   "execution_count": 47,
   "metadata": {
    "deletable": false,
    "editable": false,
    "nbgrader": {
     "checksum": "cc2672566b89d5ea7b785fa9305035f6",
     "grade": true,
     "grade_id": "cell-13ea0f4ff3191c32",
     "locked": true,
     "points": 20,
     "schema_version": 1,
     "solution": false
    }
   },
   "outputs": [
    {
     "name": "stdout",
     "output_type": "stream",
     "text": [
      "{\"count(*)\"=>15334, 0=>15334}\n",
      "{\"count(*)\"=>276667, 0=>276667}\n"
     ]
    }
   ],
   "source": [
    "def test_11()\n",
    "  assert_equal 15334, count_applications($dev_db)\n",
    "  assert_equal 276667, count_applications($train_db)\n",
    "end\n",
    "\n",
    "test_11()"
   ]
  },
  {
   "cell_type": "markdown",
   "metadata": {},
   "source": [
    "## Begin Question 1.2 (10 points)\n",
    "\n",
    "This dataset presents a classification problem in which we seek to predict positive (target = 1) applications versus negative (target = 0) applications. Each application is identified by ```SK_ID_CURR``` in a record of the table ```application_train```. Other tables join on the ```SK_ID_CURR``` field. \n",
    "\n",
    "Return the number of applications with target value 0 and 1 as a hash. Name the counts as \"n\". "
   ]
  },
  {
   "cell_type": "code",
   "execution_count": 48,
   "metadata": {
    "deletable": false,
    "nbgrader": {
     "checksum": "93f695fedcb63a78204583bd71f6e9e4",
     "grade": false,
     "grade_id": "cell-25cbde3fc3d60ffa",
     "locked": false,
     "schema_version": 1,
     "solution": true
    }
   },
   "outputs": [
    {
     "data": {
      "text/plain": [
       ":target_distribution"
      ]
     },
     "execution_count": 48,
     "metadata": {},
     "output_type": "execute_result"
    }
   ],
   "source": [
    "def target_distribution(db)\n",
    "  # BEGIN YOUR CODE\n",
    "  distribution = Hash.new\n",
    "  sql_0 = \"select count(*) \n",
    "        from application_train\n",
    "        where target = 0\"\n",
    "  sql_1 = \"select count(*) \n",
    "        from application_train \n",
    "        where target = 1\"\n",
    "\n",
    "  db.execute(sql_0) do |row|\n",
    "    count_0 = row[\"count(*)\"]\n",
    "    distribution[0] = count_0\n",
    "  end\n",
    "  \n",
    "  db.execute(sql_1) do |row|\n",
    "    count_1 = row[\"count(*)\"]\n",
    "    distribution[1] = count_1\n",
    "  end\n",
    "  \n",
    "  #END YOUR CODE\n",
    "  puts distribution\n",
    "  return distribution\n",
    "  \n",
    "end"
   ]
  },
  {
   "cell_type": "code",
   "execution_count": 49,
   "metadata": {
    "deletable": false,
    "editable": false,
    "nbgrader": {
     "checksum": "61277c6470336ce153ea805abf59e51a",
     "grade": true,
     "grade_id": "cell-17f586438787efee",
     "locked": true,
     "points": 10,
     "schema_version": 1,
     "solution": false
    }
   },
   "outputs": [
    {
     "name": "stdout",
     "output_type": "stream",
     "text": [
      "{0=>14101, 1=>1233}\n"
     ]
    }
   ],
   "source": [
    "# Tests for the counts\n",
    "def test_12()\n",
    "  dist = target_distribution($dev_db)\n",
    "  assert_equal 14101, dist[0]\n",
    "  assert_equal 1233, dist[1]\n",
    "end\n",
    "test_12()"
   ]
  },
  {
   "cell_type": "markdown",
   "metadata": {},
   "source": [
    "## Begin Question 1.3 (10 points)\n",
    "\n",
    "Write a function which, when provided a database and a name of a column with categorical values, returns a hash with the top 10 values, along with their counts. \n"
   ]
  },
  {
   "cell_type": "code",
   "execution_count": 50,
   "metadata": {
    "deletable": false,
    "nbgrader": {
     "checksum": "04bfa7e08b8941b3f3fcd8b5e7dfba7b",
     "grade": false,
     "grade_id": "cell-7465c3230afa04b6",
     "locked": false,
     "schema_version": 1,
     "solution": true
    }
   },
   "outputs": [
    {
     "data": {
      "text/plain": [
       ":feature_frequency"
      ]
     },
     "execution_count": 50,
     "metadata": {},
     "output_type": "execute_result"
    }
   ],
   "source": [
    "def feature_frequency db, fname\n",
    "  frequency = Hash.new\n",
    "  # BEGIN YOUR CODE\n",
    "  sql = \"select \" + fname.to_s + \" \n",
    "         from application_train\"\n",
    "  \n",
    "  i = 0\n",
    "  freq_map = Hash.new\n",
    "  db.execute(sql) do |row|\n",
    "    key = row[fname]\n",
    "    if freq_map.key?(key)\n",
    "      freq_map[key] += 1\n",
    "    else\n",
    "      freq_map[key] = 1\n",
    "    end\n",
    "  end\n",
    "  freq_entry = freq_map.to_a.sort_by {|row| row[1]}\n",
    "  freq_keys = freq_entry.last(10).map{|e| e[0]}\n",
    "  freq_keys.reverse.each do |key|\n",
    "    frequency[key] = freq_map[key]\n",
    "  end\n",
    "   \n",
    "  #END YOUR CODE\n",
    "  return frequency\n",
    "end\n"
   ]
  },
  {
   "cell_type": "code",
   "execution_count": 51,
   "metadata": {
    "scrolled": true
   },
   "outputs": [],
   "source": [
    "def test_cos\n",
    "  d_ct = feature_frequency $dev_db, \"FLAG_OWN_REALTY\"\n",
    "  assert_equal 2, d_ct.size\n",
    "  assert_equal 10618, d_ct[\"Y\"]\n",
    "  assert_equal 4716, d_ct[\"N\"]\n",
    "end\n",
    "\n",
    "test_cos()"
   ]
  },
  {
   "cell_type": "code",
   "execution_count": 52,
   "metadata": {
    "deletable": false,
    "editable": false,
    "nbgrader": {
     "checksum": "6526a5f161a82abc7f6a2e30ef415643",
     "grade": true,
     "grade_id": "cell-270d1b5d024a8839",
     "locked": true,
     "points": 10,
     "schema_version": 1,
     "solution": false
    }
   },
   "outputs": [],
   "source": [
    "def test_13\n",
    "  d_ct = feature_frequency $dev_db, \"NAME_CONTRACT_TYPE\"\n",
    "  assert_equal 2, d_ct.size\n",
    "  assert_equal 13867, d_ct[\"Cash loans\"]\n",
    "  assert_equal 1467, d_ct[\"Revolving loans\"]\n",
    "end\n",
    "\n",
    "test_13()"
   ]
  },
  {
   "cell_type": "code",
   "execution_count": null,
   "metadata": {
    "deletable": false,
    "editable": false,
    "nbgrader": {
     "checksum": "c757b67f1968f93f33d417be98ab92d6",
     "grade": true,
     "grade_id": "cell-127139949dd19368",
     "locked": true,
     "points": 10,
     "schema_version": 1,
     "solution": false
    }
   },
   "outputs": [],
   "source": []
  },
  {
   "cell_type": "code",
   "execution_count": null,
   "metadata": {
    "deletable": false,
    "editable": false,
    "nbgrader": {
     "checksum": "e3f9b74354df11031dff67073f56bf25",
     "grade": true,
     "grade_id": "cell-3f4e1b31ae120b89",
     "locked": true,
     "points": 10,
     "schema_version": 1,
     "solution": false
    }
   },
   "outputs": [],
   "source": []
  },
  {
   "cell_type": "code",
   "execution_count": null,
   "metadata": {
    "deletable": false,
    "editable": false,
    "nbgrader": {
     "checksum": "2db8dea401b66c5d9db57ed2947578ce",
     "grade": true,
     "grade_id": "cell-413ef7afec56ca4d",
     "locked": true,
     "points": 10,
     "schema_version": 1,
     "solution": false
    }
   },
   "outputs": [],
   "source": []
  },
  {
   "cell_type": "code",
   "execution_count": null,
   "metadata": {
    "deletable": false,
    "editable": false,
    "nbgrader": {
     "checksum": "59131dba96d173193b9fb071fb7bc103",
     "grade": true,
     "grade_id": "cell-fbfc310ae2bd1e32",
     "locked": true,
     "points": 10,
     "schema_version": 1,
     "solution": false
    }
   },
   "outputs": [],
   "source": []
  },
  {
   "cell_type": "markdown",
   "metadata": {},
   "source": [
    "## Begin Question 1.4 (10 points)\n",
    "\n",
    "Count the number of positive (target = 1) and negative (target = 0) applications from ```application_train``` with exactly 4 records in ```previous_application```."
   ]
  },
  {
   "cell_type": "code",
   "execution_count": 53,
   "metadata": {
    "deletable": false,
    "nbgrader": {
     "checksum": "cf72e6de3dec32e876fe864ca9851e8a",
     "grade": false,
     "grade_id": "cell-1c928944deb25f38",
     "locked": false,
     "schema_version": 1,
     "solution": true
    }
   },
   "outputs": [
    {
     "data": {
      "text/plain": [
       ":num_with_prev"
      ]
     },
     "execution_count": 53,
     "metadata": {},
     "output_type": "execute_result"
    }
   ],
   "source": [
    "def num_with_prev(db)\n",
    "  counts = Hash.new\n",
    "  # BEGIN YOUR CODE\n",
    "  freq_map = Hash.new\n",
    "  \n",
    "  sql_pre = \"select SK_ID_CURR \n",
    "         from previous_application \n",
    "         group by SK_ID_CURR \n",
    "         having count(*) == 4\"\n",
    "  sql = \"select target, count(*)\n",
    "         from application_train \n",
    "         where SK_ID_CURR in (\" + sql_pre + \") \n",
    "         group by target\"\n",
    "  db.execute(sql) do |row|\n",
    "    puts row\n",
    "    target = row[0]\n",
    "    counts[target] = row[1]\n",
    "  end\n",
    "  puts counts\n",
    "  \n",
    "  \n",
    "#   #END YOUR CODE\n",
    "  return counts\n",
    "end"
   ]
  },
  {
   "cell_type": "code",
   "execution_count": 54,
   "metadata": {
    "deletable": false,
    "editable": false,
    "nbgrader": {
     "checksum": "4ec644c871067488a647b0e456cc1d1f",
     "grade": true,
     "grade_id": "cell-3d564de824595d29",
     "locked": true,
     "points": 20,
     "schema_version": 1,
     "solution": false
    }
   },
   "outputs": [
    {
     "name": "stdout",
     "output_type": "stream",
     "text": [
      "{\"TARGET\"=>0, \"count(*)\"=>1514, 0=>0, 1=>1514}\n",
      "{\"TARGET\"=>1, \"count(*)\"=>124, 0=>1, 1=>124}\n",
      "{0=>1514, 1=>124}\n"
     ]
    }
   ],
   "source": [
    "def test_14()\n",
    "  t = num_with_prev($dev_db)\n",
    "  assert_true(t.has_key? 0)\n",
    "  assert_true(t.has_key? 1)\n",
    "end\n",
    "\n",
    "test_14()"
   ]
  },
  {
   "cell_type": "code",
   "execution_count": 55,
   "metadata": {},
   "outputs": [
    {
     "name": "stdout",
     "output_type": "stream",
     "text": [
      "{\"TARGET\"=>0, \"count(*)\"=>1514, 0=>0, 1=>1514}\n",
      "{\"TARGET\"=>1, \"count(*)\"=>124, 0=>1, 1=>124}\n",
      "{0=>1514, 1=>124}\n"
     ]
    }
   ],
   "source": [
    "def test_cos()\n",
    "  t = num_with_prev($dev_db)\n",
    "  assert_equal 1514, t[0]\n",
    "  assert_equal 124, t[1]\n",
    "end\n",
    "\n",
    "test_cos()"
   ]
  },
  {
   "cell_type": "code",
   "execution_count": null,
   "metadata": {},
   "outputs": [],
   "source": []
  },
  {
   "cell_type": "code",
   "execution_count": null,
   "metadata": {},
   "outputs": [],
   "source": []
  },
  {
   "cell_type": "code",
   "execution_count": null,
   "metadata": {},
   "outputs": [],
   "source": []
  },
  {
   "cell_type": "code",
   "execution_count": null,
   "metadata": {},
   "outputs": [],
   "source": []
  }
 ],
 "metadata": {
  "kernelspec": {
   "display_name": "Ruby 2.5.1",
   "language": "ruby",
   "name": "ruby"
  },
  "language_info": {
   "file_extension": ".rb",
   "mimetype": "application/x-ruby",
   "name": "ruby",
   "version": "2.5.1"
  }
 },
 "nbformat": 4,
 "nbformat_minor": 2
}
